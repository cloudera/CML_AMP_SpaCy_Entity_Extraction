{
 "cells": [
  {
   "cell_type": "markdown",
   "metadata": {},
   "source": [
    "# Analyzing news headlines with spaCy"
   ]
  },
  {
   "cell_type": "markdown",
   "metadata": {},
   "source": [
    "For many machine learning tasks, we must collect specific training data, labeling the data, and invest substantial time in developing a custom model for our purpose. However, there are some tasks that are sufficiently universal that pre-trained models can provide at least a proof of concept, and perhaps a production solution.\n",
    "\n",
    "One area where this is common is natural language processing. Language use varies between sources&mdash;a quarterly financial report will differ substantially from comic book dialogue&mdash;but most of the essential rules of a given language (we'll stick with English for this notebook) do not change between sources. This means that language models trained for certain tasks are widely applicable. Even if a better result would be possible with a model that is fine tuned to a dataset, the feasibility of a product can often be evaluated with pre-trained solutions.\n",
    "\n",
    "The [spaCy](https://spacy.io/) library from [explosion.ai](https://explosion.ai/) is designed to provide production ready solutions to NLP tasks. The emphasis is on exposing mature capabilities for real-world use, as opposed to providing a comprehensive list of subtly-different models.\n",
    "\n",
    "In this notebook, we'll use spaCy for named entity recognition (NER). In NER, the task is to identify so-called named entities in a body of text, and classify their entity type. By default, spaCy recognises [18 distinct categories](https://spacy.io/api/annotation#named-entities) of named entity, encompassing people, geopolitical entities, dates, works of arts, monetary figures and more.\n",
    "\n",
    "Our use case is to investigate the appearance of organisations in Reuters news headlines. Tracking organisational appearances is interesting in itself, and could form part of a pipeline for competitive analysis, national statistical reporting or sector-specific analysis (for instance, in banking)."
   ]
  },
  {
   "cell_type": "markdown",
   "metadata": {},
   "source": [
    "## Setup notebook dependencies\n",
    "\n",
    "First we must install a couple of dependencies, import them, and enable inline plotting."
   ]
  },
  {
   "cell_type": "code",
   "execution_count": 1,
   "metadata": {},
   "outputs": [],
   "source": [
    "%%capture\n",
    "# ^ hiding large cell output. disable for logs.\n",
    "!pip3 install spacy==3.2.4 pandas==1.4.2 numpy==1.19.4 matplotlib==3.3.4 seaborn==0.11.2\n",
    "!python3 -m spacy download en_core_web_sm"
   ]
  },
  {
   "cell_type": "code",
   "execution_count": 2,
   "metadata": {},
   "outputs": [],
   "source": [
    "import spacy\n",
    "import en_core_web_sm\n",
    "import numpy as np\n",
    "import pandas as pd\n",
    "import matplotlib.pyplot as plt\n",
    "import seaborn as sns"
   ]
  },
  {
   "cell_type": "code",
   "execution_count": 3,
   "metadata": {},
   "outputs": [],
   "source": [
    "%matplotlib inline"
   ]
  },
  {
   "cell_type": "markdown",
   "metadata": {},
   "source": [
    "## Load data"
   ]
  },
  {
   "cell_type": "markdown",
   "metadata": {},
   "source": [
    "We'l use a public domain dataset of Reuters news headlines spanning March 2018 through July 2020 (from [Kaggle](https://www.kaggle.com/notlucasp/financial-news-headlines)). The data contains more than 32,000 headlines, with associated dates, and a short article description (which we ignore). "
   ]
  },
  {
   "cell_type": "code",
   "execution_count": 4,
   "metadata": {},
   "outputs": [
    {
     "data": {
      "text/html": [
       "<div>\n",
       "<style scoped>\n",
       "    .dataframe tbody tr th:only-of-type {\n",
       "        vertical-align: middle;\n",
       "    }\n",
       "\n",
       "    .dataframe tbody tr th {\n",
       "        vertical-align: top;\n",
       "    }\n",
       "\n",
       "    .dataframe thead th {\n",
       "        text-align: right;\n",
       "    }\n",
       "</style>\n",
       "<table border=\"1\" class=\"dataframe\">\n",
       "  <thead>\n",
       "    <tr style=\"text-align: right;\">\n",
       "      <th></th>\n",
       "      <th>Headlines</th>\n",
       "      <th>Time</th>\n",
       "      <th>Description</th>\n",
       "    </tr>\n",
       "  </thead>\n",
       "  <tbody>\n",
       "    <tr>\n",
       "      <th>0</th>\n",
       "      <td>TikTok considers London and other locations fo...</td>\n",
       "      <td>2020-07-18</td>\n",
       "      <td>TikTok has been in discussions with the UK gov...</td>\n",
       "    </tr>\n",
       "    <tr>\n",
       "      <th>1</th>\n",
       "      <td>Disney cuts ad spending on Facebook amid growi...</td>\n",
       "      <td>2020-07-18</td>\n",
       "      <td>Walt Disney  has become the latest company to ...</td>\n",
       "    </tr>\n",
       "    <tr>\n",
       "      <th>2</th>\n",
       "      <td>Trail of missing Wirecard executive leads to B...</td>\n",
       "      <td>2020-07-18</td>\n",
       "      <td>Former Wirecard  chief operating officer Jan M...</td>\n",
       "    </tr>\n",
       "    <tr>\n",
       "      <th>3</th>\n",
       "      <td>Twitter says attackers downloaded data from up...</td>\n",
       "      <td>2020-07-18</td>\n",
       "      <td>Twitter Inc said on Saturday that hackers were...</td>\n",
       "    </tr>\n",
       "    <tr>\n",
       "      <th>4</th>\n",
       "      <td>U.S. Republicans seek liability protections as...</td>\n",
       "      <td>2020-07-17</td>\n",
       "      <td>A battle in the U.S. Congress over a new coron...</td>\n",
       "    </tr>\n",
       "  </tbody>\n",
       "</table>\n",
       "</div>"
      ],
      "text/plain": [
       "                                           Headlines       Time  \\\n",
       "0  TikTok considers London and other locations fo... 2020-07-18   \n",
       "1  Disney cuts ad spending on Facebook amid growi... 2020-07-18   \n",
       "2  Trail of missing Wirecard executive leads to B... 2020-07-18   \n",
       "3  Twitter says attackers downloaded data from up... 2020-07-18   \n",
       "4  U.S. Republicans seek liability protections as... 2020-07-17   \n",
       "\n",
       "                                         Description  \n",
       "0  TikTok has been in discussions with the UK gov...  \n",
       "1  Walt Disney  has become the latest company to ...  \n",
       "2  Former Wirecard  chief operating officer Jan M...  \n",
       "3  Twitter Inc said on Saturday that hackers were...  \n",
       "4  A battle in the U.S. Congress over a new coron...  "
      ]
     },
     "execution_count": 4,
     "metadata": {},
     "output_type": "execute_result"
    }
   ],
   "source": [
    "reuters_headline_df = pd.read_csv('reuters_headlines.csv', parse_dates=[1])\n",
    "reuters_headline_df.head()"
   ]
  },
  {
   "cell_type": "markdown",
   "metadata": {},
   "source": [
    "## Extract entities with spaCy"
   ]
  },
  {
   "cell_type": "markdown",
   "metadata": {},
   "source": [
    "To detect entities and their type (spaCy refers to this as their _label_) in text, we must use a statistical model. Here, we use spaCy's `en_core_web_sm` model. This is an English language model trained on web data, and is lightweight at 11MB. Larger versions of this model, and their performance characteristics, can be found in the [spaCy docs](https://spacy.io/models/en). spaCy also provides support for [non-English languages](https://spacy.io/usage/models#languages). Under the hood, this is a convolutional neural network, but since it is already trained and we're using it as is, we can consider it a simple function with known statistical performance."
   ]
  },
  {
   "cell_type": "code",
   "execution_count": 5,
   "metadata": {},
   "outputs": [],
   "source": [
    "nlp = en_core_web_sm.load()"
   ]
  },
  {
   "cell_type": "markdown",
   "metadata": {},
   "source": [
    "To extract entities from a single document, we simply calling `nlp` on the document: `nlp(\"Here is some text\")`. When we do so, the text is tokenized, and several components of an NLP pipeline are run on the tokens: they're tagged for part-of-speech labels (verb, noun, etc.) and assigned dependency labels with a parser.\n",
    "\n",
    "To extract entities from many headlines, it is considerably more performant to use spaCy's built in pipeline abstraction than to `apply` the operation with pandas. Since we care only about extracting named entities from the text, we can also disable the tagger and parser to avoid unnecessary work, improving speed."
   ]
  },
  {
   "cell_type": "code",
   "execution_count": 6,
   "metadata": {},
   "outputs": [],
   "source": [
    "entity_pipe = nlp.pipe(reuters_headline_df.Headlines, disable=['tagger', 'parser'])"
   ]
  },
  {
   "cell_type": "code",
   "execution_count": 7,
   "metadata": {},
   "outputs": [
    {
     "name": "stderr",
     "output_type": "stream",
     "text": [
      "/home/cdsw/.local/lib/python3.9/site-packages/spacy/pipeline/lemmatizer.py:211: UserWarning: [W108] The rule-based lemmatizer did not find POS annotation for one or more tokens. Check that your pipeline includes components that assign token.pos, typically 'tagger'+'attribute_ruler' or 'morphologizer'.\n",
      "  warnings.warn(Warnings.W108)\n"
     ]
    }
   ],
   "source": [
    "# even with above performance considerations, this cell takes a minute\n",
    "reuters_headline_df['Entities'] = [x.ents for x in entity_pipe]"
   ]
  },
  {
   "cell_type": "markdown",
   "metadata": {},
   "source": [
    "For convenience, we'll construct a new DataFrame with only the columns we care about: date, headline, entity and entity label. Each row in the DataFrame is a single entity that has been extracted, so headlines containing multiple entities may appear multiple times."
   ]
  },
  {
   "cell_type": "code",
   "execution_count": 8,
   "metadata": {},
   "outputs": [],
   "source": [
    "entity_df = (\n",
    "    reuters_headline_df\n",
    "    .explode('Entities')\n",
    "    [['Time', 'Headlines', 'Entities']]\n",
    "    .rename(columns={'Entities': 'Entity', 'Headlines': 'Headline', 'Time': 'Date'})\n",
    "    .dropna()\n",
    "    .assign(\n",
    "        Label = lambda df: df.Entity.apply(lambda x: x.label_),\n",
    "        Entity = lambda df: df.Entity.apply(lambda x: x.text)\n",
    "    )\n",
    "    .reset_index(drop=True)\n",
    ")"
   ]
  },
  {
   "cell_type": "code",
   "execution_count": 9,
   "metadata": {},
   "outputs": [
    {
     "data": {
      "text/html": [
       "<div>\n",
       "<style scoped>\n",
       "    .dataframe tbody tr th:only-of-type {\n",
       "        vertical-align: middle;\n",
       "    }\n",
       "\n",
       "    .dataframe tbody tr th {\n",
       "        vertical-align: top;\n",
       "    }\n",
       "\n",
       "    .dataframe thead th {\n",
       "        text-align: right;\n",
       "    }\n",
       "</style>\n",
       "<table border=\"1\" class=\"dataframe\">\n",
       "  <thead>\n",
       "    <tr style=\"text-align: right;\">\n",
       "      <th></th>\n",
       "      <th>Date</th>\n",
       "      <th>Headline</th>\n",
       "      <th>Entity</th>\n",
       "      <th>Label</th>\n",
       "    </tr>\n",
       "  </thead>\n",
       "  <tbody>\n",
       "    <tr>\n",
       "      <th>0</th>\n",
       "      <td>2020-07-18</td>\n",
       "      <td>TikTok considers London and other locations fo...</td>\n",
       "      <td>TikTok</td>\n",
       "      <td>ORG</td>\n",
       "    </tr>\n",
       "    <tr>\n",
       "      <th>1</th>\n",
       "      <td>2020-07-18</td>\n",
       "      <td>TikTok considers London and other locations fo...</td>\n",
       "      <td>London</td>\n",
       "      <td>GPE</td>\n",
       "    </tr>\n",
       "    <tr>\n",
       "      <th>2</th>\n",
       "      <td>2020-07-18</td>\n",
       "      <td>Disney cuts ad spending on Facebook amid growi...</td>\n",
       "      <td>Disney</td>\n",
       "      <td>ORG</td>\n",
       "    </tr>\n",
       "    <tr>\n",
       "      <th>3</th>\n",
       "      <td>2020-07-18</td>\n",
       "      <td>Disney cuts ad spending on Facebook amid growi...</td>\n",
       "      <td>WSJ</td>\n",
       "      <td>ORG</td>\n",
       "    </tr>\n",
       "    <tr>\n",
       "      <th>4</th>\n",
       "      <td>2020-07-18</td>\n",
       "      <td>Trail of missing Wirecard executive leads to B...</td>\n",
       "      <td>Wirecard</td>\n",
       "      <td>ORG</td>\n",
       "    </tr>\n",
       "  </tbody>\n",
       "</table>\n",
       "</div>"
      ],
      "text/plain": [
       "        Date                                           Headline    Entity  \\\n",
       "0 2020-07-18  TikTok considers London and other locations fo...    TikTok   \n",
       "1 2020-07-18  TikTok considers London and other locations fo...    London   \n",
       "2 2020-07-18  Disney cuts ad spending on Facebook amid growi...    Disney   \n",
       "3 2020-07-18  Disney cuts ad spending on Facebook amid growi...       WSJ   \n",
       "4 2020-07-18  Trail of missing Wirecard executive leads to B...  Wirecard   \n",
       "\n",
       "  Label  \n",
       "0   ORG  \n",
       "1   GPE  \n",
       "2   ORG  \n",
       "3   ORG  \n",
       "4   ORG  "
      ]
     },
     "execution_count": 9,
     "metadata": {},
     "output_type": "execute_result"
    }
   ],
   "source": [
    "entity_df.head()"
   ]
  },
  {
   "cell_type": "markdown",
   "metadata": {},
   "source": [
    "SpaCy provides a nice built in visualizer for extracted entities. Let's take a look at a couple of examples:"
   ]
  },
  {
   "cell_type": "code",
   "execution_count": 10,
   "metadata": {},
   "outputs": [
    {
     "data": {
      "text/html": [
       "<span class=\"tex2jax_ignore\"><div class=\"entities\" style=\"line-height: 2.5; direction: ltr\">\n",
       "<mark class=\"entity\" style=\"background: #7aecec; padding: 0.45em 0.6em; margin: 0 0.25em; line-height: 1; border-radius: 0.35em;\">\n",
       "    Disney\n",
       "    <span style=\"font-size: 0.8em; font-weight: bold; line-height: 1; border-radius: 0.35em; vertical-align: middle; margin-left: 0.5rem\">ORG</span>\n",
       "</mark>\n",
       " cuts ad spending on Facebook amid growing boycott: \n",
       "<mark class=\"entity\" style=\"background: #7aecec; padding: 0.45em 0.6em; margin: 0 0.25em; line-height: 1; border-radius: 0.35em;\">\n",
       "    WSJ\n",
       "    <span style=\"font-size: 0.8em; font-weight: bold; line-height: 1; border-radius: 0.35em; vertical-align: middle; margin-left: 0.5rem\">ORG</span>\n",
       "</mark>\n",
       "</div></span>"
      ],
      "text/plain": [
       "<IPython.core.display.HTML object>"
      ]
     },
     "metadata": {},
     "output_type": "display_data"
    },
    {
     "data": {
      "text/html": [
       "<span class=\"tex2jax_ignore\"><div class=\"entities\" style=\"line-height: 2.5; direction: ltr\">\n",
       "<mark class=\"entity\" style=\"background: #7aecec; padding: 0.45em 0.6em; margin: 0 0.25em; line-height: 1; border-radius: 0.35em;\">\n",
       "    TikTok\n",
       "    <span style=\"font-size: 0.8em; font-weight: bold; line-height: 1; border-radius: 0.35em; vertical-align: middle; margin-left: 0.5rem\">ORG</span>\n",
       "</mark>\n",
       " considers \n",
       "<mark class=\"entity\" style=\"background: #feca74; padding: 0.45em 0.6em; margin: 0 0.25em; line-height: 1; border-radius: 0.35em;\">\n",
       "    London\n",
       "    <span style=\"font-size: 0.8em; font-weight: bold; line-height: 1; border-radius: 0.35em; vertical-align: middle; margin-left: 0.5rem\">GPE</span>\n",
       "</mark>\n",
       " and other locations for headquarters</div></span>"
      ],
      "text/plain": [
       "<IPython.core.display.HTML object>"
      ]
     },
     "metadata": {},
     "output_type": "display_data"
    },
    {
     "data": {
      "text/html": [
       "<span class=\"tex2jax_ignore\"><div class=\"entities\" style=\"line-height: 2.5; direction: ltr\">\n",
       "<mark class=\"entity\" style=\"background: #7aecec; padding: 0.45em 0.6em; margin: 0 0.25em; line-height: 1; border-radius: 0.35em;\">\n",
       "    KPMG\n",
       "    <span style=\"font-size: 0.8em; font-weight: bold; line-height: 1; border-radius: 0.35em; vertical-align: middle; margin-left: 0.5rem\">ORG</span>\n",
       "</mark>\n",
       " hit by \n",
       "<mark class=\"entity\" style=\"background: #feca74; padding: 0.45em 0.6em; margin: 0 0.25em; line-height: 1; border-radius: 0.35em;\">\n",
       "    Hong Kong\n",
       "    <span style=\"font-size: 0.8em; font-weight: bold; line-height: 1; border-radius: 0.35em; vertical-align: middle; margin-left: 0.5rem\">GPE</span>\n",
       "</mark>\n",
       " High Court in \n",
       "<mark class=\"entity\" style=\"background: #e4e7d2; padding: 0.45em 0.6em; margin: 0 0.25em; line-height: 1; border-radius: 0.35em;\">\n",
       "    $400 million\n",
       "    <span style=\"font-size: 0.8em; font-weight: bold; line-height: 1; border-radius: 0.35em; vertical-align: middle; margin-left: 0.5rem\">MONEY</span>\n",
       "</mark>\n",
       " \n",
       "<mark class=\"entity\" style=\"background: #7aecec; padding: 0.45em 0.6em; margin: 0 0.25em; line-height: 1; border-radius: 0.35em;\">\n",
       "    China Medical\n",
       "    <span style=\"font-size: 0.8em; font-weight: bold; line-height: 1; border-radius: 0.35em; vertical-align: middle; margin-left: 0.5rem\">ORG</span>\n",
       "</mark>\n",
       " fraud</div></span>"
      ],
      "text/plain": [
       "<IPython.core.display.HTML object>"
      ]
     },
     "metadata": {},
     "output_type": "display_data"
    },
    {
     "data": {
      "text/html": [
       "<span class=\"tex2jax_ignore\"><div class=\"entities\" style=\"line-height: 2.5; direction: ltr\">\n",
       "<mark class=\"entity\" style=\"background: #7aecec; padding: 0.45em 0.6em; margin: 0 0.25em; line-height: 1; border-radius: 0.35em;\">\n",
       "    Abu Dhabi's\n",
       "    <span style=\"font-size: 0.8em; font-weight: bold; line-height: 1; border-radius: 0.35em; vertical-align: middle; margin-left: 0.5rem\">ORG</span>\n",
       "</mark>\n",
       " \n",
       "<mark class=\"entity\" style=\"background: #7aecec; padding: 0.45em 0.6em; margin: 0 0.25em; line-height: 1; border-radius: 0.35em;\">\n",
       "    Etihad Airways\n",
       "    <span style=\"font-size: 0.8em; font-weight: bold; line-height: 1; border-radius: 0.35em; vertical-align: middle; margin-left: 0.5rem\">ORG</span>\n",
       "</mark>\n",
       " restructures \n",
       "<mark class=\"entity\" style=\"background: #7aecec; padding: 0.45em 0.6em; margin: 0 0.25em; line-height: 1; border-radius: 0.35em;\">\n",
       "    Airbus\n",
       "    <span style=\"font-size: 0.8em; font-weight: bold; line-height: 1; border-radius: 0.35em; vertical-align: middle; margin-left: 0.5rem\">ORG</span>\n",
       "</mark>\n",
       ", \n",
       "<mark class=\"entity\" style=\"background: #7aecec; padding: 0.45em 0.6em; margin: 0 0.25em; line-height: 1; border-radius: 0.35em;\">\n",
       "    Boeing\n",
       "    <span style=\"font-size: 0.8em; font-weight: bold; line-height: 1; border-radius: 0.35em; vertical-align: middle; margin-left: 0.5rem\">ORG</span>\n",
       "</mark>\n",
       " jet orders</div></span>"
      ],
      "text/plain": [
       "<IPython.core.display.HTML object>"
      ]
     },
     "metadata": {},
     "output_type": "display_data"
    },
    {
     "data": {
      "text/html": [
       "<span class=\"tex2jax_ignore\"><div class=\"entities\" style=\"line-height: 2.5; direction: ltr\">Trail of missing \n",
       "<mark class=\"entity\" style=\"background: #7aecec; padding: 0.45em 0.6em; margin: 0 0.25em; line-height: 1; border-radius: 0.35em;\">\n",
       "    Wirecard\n",
       "    <span style=\"font-size: 0.8em; font-weight: bold; line-height: 1; border-radius: 0.35em; vertical-align: middle; margin-left: 0.5rem\">ORG</span>\n",
       "</mark>\n",
       " executive leads to \n",
       "<mark class=\"entity\" style=\"background: #feca74; padding: 0.45em 0.6em; margin: 0 0.25em; line-height: 1; border-radius: 0.35em;\">\n",
       "    Belarus\n",
       "    <span style=\"font-size: 0.8em; font-weight: bold; line-height: 1; border-radius: 0.35em; vertical-align: middle; margin-left: 0.5rem\">GPE</span>\n",
       "</mark>\n",
       ", \n",
       "<mark class=\"entity\" style=\"background: #aa9cfc; padding: 0.45em 0.6em; margin: 0 0.25em; line-height: 1; border-radius: 0.35em;\">\n",
       "    Der Spiegel\n",
       "    <span style=\"font-size: 0.8em; font-weight: bold; line-height: 1; border-radius: 0.35em; vertical-align: middle; margin-left: 0.5rem\">PERSON</span>\n",
       "</mark>\n",
       " reports</div></span>"
      ],
      "text/plain": [
       "<IPython.core.display.HTML object>"
      ]
     },
     "metadata": {},
     "output_type": "display_data"
    }
   ],
   "source": [
    "example_headlines = [\n",
    "    \"Disney cuts ad spending on Facebook amid growing boycott: WSJ\",\n",
    "    \"TikTok considers London and other locations for headquarters\",\n",
    "    \"KPMG hit by Hong Kong High Court in $400 million China Medical fraud\",\n",
    "    \"Abu Dhabi's Etihad Airways restructures Airbus, Boeing jet orders\",\n",
    "    \"Trail of missing Wirecard executive leads to Belarus, Der Spiegel reports\"\n",
    "]\n",
    "\n",
    "for example in example_headlines:\n",
    "    spacy.displacy.render(\n",
    "        nlp(example),\n",
    "        style=\"ent\", jupyter=True\n",
    ")"
   ]
  },
  {
   "cell_type": "markdown",
   "metadata": {},
   "source": [
    "Clearly, this is not perfect. Facebook was not identified as organisation. Der Spiegel is a German news organisation, not a person. Without a labeled test set, we cannot verify the robustness of the entity extraction on our particular data set. Metrics for the spaCy models are reported on the corresponding [model page](https://spacy.io/models/en). For `en_core_web_sm`, F-score, precision and recall all hang around 85%. It is an unavoidable reality of statistical models of text that they are imperfect.\n",
    "\n",
    "Some of the failures we observed above do not occur if we use the larger `en_core_web_lg` language model. Facebook is correctly identified as organisation. However, no model is perfect, and even the large model misidentifies Der Spiegel as a person.\n",
    "\n",
    "> If you'd like to try out the larger model yourself, you can! You'll need to replace the model name in the cell where it is loaded above, and also download it and import it, like we do with en_core_web_sm in the first code cells of this notebook. Be warned, the large model is 746MB.\n",
    "\n",
    "So then **why should we use a statistical model?** Why aren't we just extracting entities with regular expressions? Pattern matching will work for entities known ahead of time. For instance, if we only wanted to detect occurrences of \"Facebook\" or \"Twitter\", we could write rules to detect them. This approach is simple, and will match exactly the strings specified in the rules, regardless of context, which may be appropriate for some use cases.\n",
    "\n",
    "In contrast, statistical NER techniques do not discriminate on the particular name of an entity, but rather on its usage. Consider the entity \"White House\" (identified as an organisation by spaCy). Pattern matching will not distinguish between the White House of [whitehouse.gov](https://www.whitehouse.gov/) and the White House in the phrase \"How Many People Can Walter White House in His RV?\" One could attempt to implement some heuristic rules to isolate the desired pattern. In practice, this is not always possible, and is extremely manual and error-prone; all the more so when many entities are sought.\n",
    "\n",
    "In cases where seek to extract *entities* rather than words, especially when there is a likely naming conflict with words in common usage, we are often better served by a statistical approach."
   ]
  },
  {
   "cell_type": "markdown",
   "metadata": {},
   "source": [
    "## Most mentioned organisations\n",
    "\n",
    "Having extracted entites from the Reuters headlines, we can now query them however we please. For instance, we could ask which organisations have been reported about most (by Reuters) in 2020:"
   ]
  },
  {
   "cell_type": "code",
   "execution_count": 11,
   "metadata": {},
   "outputs": [
    {
     "data": {
      "text/html": [
       "<div>\n",
       "<style scoped>\n",
       "    .dataframe tbody tr th:only-of-type {\n",
       "        vertical-align: middle;\n",
       "    }\n",
       "\n",
       "    .dataframe tbody tr th {\n",
       "        vertical-align: top;\n",
       "    }\n",
       "\n",
       "    .dataframe thead th {\n",
       "        text-align: right;\n",
       "    }\n",
       "</style>\n",
       "<table border=\"1\" class=\"dataframe\">\n",
       "  <thead>\n",
       "    <tr style=\"text-align: right;\">\n",
       "      <th></th>\n",
       "      <th>Entity</th>\n",
       "      <th>2020 Count</th>\n",
       "    </tr>\n",
       "  </thead>\n",
       "  <tbody>\n",
       "    <tr>\n",
       "      <th>0</th>\n",
       "      <td>Fed</td>\n",
       "      <td>253</td>\n",
       "    </tr>\n",
       "    <tr>\n",
       "      <th>1</th>\n",
       "      <td>Boeing</td>\n",
       "      <td>208</td>\n",
       "    </tr>\n",
       "    <tr>\n",
       "      <th>2</th>\n",
       "      <td>EU</td>\n",
       "      <td>189</td>\n",
       "    </tr>\n",
       "    <tr>\n",
       "      <th>3</th>\n",
       "      <td>Amazon</td>\n",
       "      <td>143</td>\n",
       "    </tr>\n",
       "    <tr>\n",
       "      <th>4</th>\n",
       "      <td>Huawei</td>\n",
       "      <td>142</td>\n",
       "    </tr>\n",
       "    <tr>\n",
       "      <th>5</th>\n",
       "      <td>Trump</td>\n",
       "      <td>140</td>\n",
       "    </tr>\n",
       "    <tr>\n",
       "      <th>6</th>\n",
       "      <td>Airbus</td>\n",
       "      <td>109</td>\n",
       "    </tr>\n",
       "    <tr>\n",
       "      <th>7</th>\n",
       "      <td>Apple</td>\n",
       "      <td>107</td>\n",
       "    </tr>\n",
       "    <tr>\n",
       "      <th>8</th>\n",
       "      <td>MAX</td>\n",
       "      <td>98</td>\n",
       "    </tr>\n",
       "    <tr>\n",
       "      <th>9</th>\n",
       "      <td>Lufthansa</td>\n",
       "      <td>96</td>\n",
       "    </tr>\n",
       "  </tbody>\n",
       "</table>\n",
       "</div>"
      ],
      "text/plain": [
       "      Entity  2020 Count\n",
       "0        Fed         253\n",
       "1     Boeing         208\n",
       "2         EU         189\n",
       "3     Amazon         143\n",
       "4     Huawei         142\n",
       "5      Trump         140\n",
       "6     Airbus         109\n",
       "7      Apple         107\n",
       "8        MAX          98\n",
       "9  Lufthansa          96"
      ]
     },
     "execution_count": 11,
     "metadata": {},
     "output_type": "execute_result"
    }
   ],
   "source": [
    "(\n",
    "    entity_df[\n",
    "        (entity_df.Label == \"ORG\") &                # filter to organisation entities only\n",
    "        (entity_df.Date.dt.year == 2020)            # filter to 2020 only\n",
    "    ]\n",
    "    .drop_duplicates()                              # count each headline once, even if org mentioned multiple times\n",
    "    .groupby('Entity')\n",
    "    .agg({'Headline': len})                         # count number of headlines in which each org appears\n",
    "    .sort_values(by='Headline', ascending=False)    # order from most to least appearances\n",
    "    .reset_index()\n",
    "    .rename(columns={'Headline': '2020 Count'})\n",
    "    .head(10)\n",
    ")"
   ]
  },
  {
   "cell_type": "markdown",
   "metadata": {},
   "source": [
    "The organisation appearing in the most headlines in 2020 is the \"Fed\"&mdash;the U.S. Federal Reserve Board. This is believable. Let's see some of those headlines:"
   ]
  },
  {
   "cell_type": "code",
   "execution_count": 12,
   "metadata": {},
   "outputs": [
    {
     "data": {
      "text/plain": [
       "array([\"Fed's Clarida says there is more the Fed can and will do\",\n",
       "       \"Explainer: How Fed's Main Street program compares to other small business pandemic aid\",\n",
       "       'Oil lower on coronavirus fears despite Fed rate cut and hopes for OPEC+ output cut',\n",
       "       \"Fed's Clarida says there is more the Fed can and will do\",\n",
       "       'Instant View: Fed launches unprecedented range of credit support',\n",
       "       'Fed officials stress need to factor in structural inequities when evaluating economy',\n",
       "       'Former Fed chief Bernanke sees bad year, no quick recovery',\n",
       "       \"Goldman Sachs says it's climbing toward Fed's capital demands\",\n",
       "       \"With 'Main Street' in view, Fed weighs risks of job, productivity shocks\",\n",
       "       \"Fed's Harker says U.S. economic downturn is painful and 'stubbornly long-lasting'\"],\n",
       "      dtype=object)"
      ]
     },
     "execution_count": 12,
     "metadata": {},
     "output_type": "execute_result"
    }
   ],
   "source": [
    "entity_df[(entity_df.Date.dt.year == 2020) & (entity_df.Entity == \"Fed\")].sample(10).Headline.values"
   ]
  },
  {
   "cell_type": "markdown",
   "metadata": {},
   "source": [
    "## Timeline of mentions for a named entity\n",
    "\n",
    "Perhaps we are interested in tracking the appearance of an organisation in the news over time. We can view that with a simple line chart of mentions per day."
   ]
  },
  {
   "cell_type": "code",
   "execution_count": 13,
   "metadata": {},
   "outputs": [],
   "source": [
    "def occurence_plot(entity_name):\n",
    "    ax = (\n",
    "        entity_df[\n",
    "            (entity_df.Label == \"ORG\") &         # select only entities of type organisation\n",
    "            (entity_df.Entity == entity_name)    # select only a specific named entity\n",
    "         ]\n",
    "        .drop_duplicates()                       # count each headline once\n",
    "        .groupby('Date')\n",
    "        .agg(len)                                # count headlines containing the org on each date\n",
    "        .plot(\n",
    "            y='Entity',\n",
    "            drawstyle='steps',\n",
    "            legend=False,\n",
    "            figsize=(8,2)\n",
    "        )\n",
    "    )\n",
    "    ax.set_ylabel('Daily count')"
   ]
  },
  {
   "cell_type": "markdown",
   "metadata": {},
   "source": [
    "For instance, we could look at mentions of aerospace company Boeing:"
   ]
  },
  {
   "cell_type": "code",
   "execution_count": 14,
   "metadata": {},
   "outputs": [
    {
     "data": {
      "image/png": "[encoded data removed]",
      "text/plain": [
       "<Figure size 576x144 with 1 Axes>"
      ]
     },
     "metadata": {
      "needs_background": "light"
     },
     "output_type": "display_data"
    }
   ],
   "source": [
    "occurence_plot('Boeing')"
   ]
  },
  {
   "cell_type": "markdown",
   "metadata": {},
   "source": [
    "There's a prominent spike in articles around March-April 2019. This corresponds to the [Boeing 737 MAX groundings](https://en.wikipedia.org/wiki/Boeing_737_MAX_groundings) following two unfortunate crashes. This also explains the presence of the \"MAX\" entity (misidentified as an organisation) in the top 10 mentioned organisations in 2020 (as testing continues)."
   ]
  },
  {
   "cell_type": "markdown",
   "metadata": {},
   "source": [
    "## Organisation co-occurrence matrix\n",
    "\n",
    "We may be interested in investigating which organisations are frequently mentioned together. Let's do so for 2020. We can transform our list of headlines and associated entities into a co-occurrence matrix."
   ]
  },
  {
   "cell_type": "code",
   "execution_count": 15,
   "metadata": {},
   "outputs": [],
   "source": [
    "# create a filtered dataframe for convenience\n",
    "orgs_2020_df = (\n",
    "    entity_df[\n",
    "        (entity_df.Label == \"ORG\") &        # filter to organisation entities only\n",
    "        (entity_df.Date.dt.year == 2020)    # filter to 2020 only\n",
    "    ]\n",
    "    [['Headline', 'Entity']]\n",
    "    .drop_duplicates()                      # count each headline once, even if org mentioned multiple times\n",
    ")\n",
    "\n",
    "ct = pd.crosstab(orgs_2020_df.Headline, orgs_2020_df.Entity)\n",
    "co_occurrence = ct.T.dot(ct)\n",
    "np.fill_diagonal(co_occurrence.values, 0)   # remove self-co-occurrence !!! warning: in-place operation !!!"
   ]
  },
  {
   "cell_type": "markdown",
   "metadata": {},
   "source": [
    "The result is a giant DataFrame where each organisational entity appears as both a row and column, with the value of each cell representing the count of times two organisations have co-occurred in a Reuters headline in 2020. We have removed the diagonal of the matrix, since all organisations co-occur with themselves every time they're mentioned.\n",
    "\n",
    "For a given org, we can look up the other orgs it most frequently co-occurred with:"
   ]
  },
  {
   "cell_type": "code",
   "execution_count": 16,
   "metadata": {},
   "outputs": [
    {
     "data": {
      "text/plain": [
       "Entity\n",
       "Delta            2\n",
       "Boeing           2\n",
       "United           2\n",
       "CNBC             1\n",
       "Qatar Airways    1\n",
       "Name: American Airlines, dtype: int64"
      ]
     },
     "execution_count": 16,
     "metadata": {},
     "output_type": "execute_result"
    }
   ],
   "source": [
    "co_occurrence.loc['American Airlines'].sort_values(ascending=False).head()"
   ]
  },
  {
   "cell_type": "markdown",
   "metadata": {},
   "source": [
    "Alternatively, we could check how often two orgs were mentioned together:"
   ]
  },
  {
   "cell_type": "code",
   "execution_count": 17,
   "metadata": {},
   "outputs": [
    {
     "data": {
      "text/plain": [
       "2"
      ]
     },
     "execution_count": 17,
     "metadata": {},
     "output_type": "execute_result"
    }
   ],
   "source": [
    "co_occurrence.loc['HSBC'].loc['Huawei']"
   ]
  },
  {
   "cell_type": "markdown",
   "metadata": {},
   "source": [
    "Finally, we might be interested in seeing the full co-occurence matrix visualized. Some organisations never co-occurred with any other org in a Reuters headline in 2020, so we'll drop those rows and columns of zero."
   ]
  },
  {
   "cell_type": "code",
   "execution_count": 18,
   "metadata": {},
   "outputs": [],
   "source": [
    "no_zeros = co_occurrence.loc[(co_occurrence !=0 ).any(axis='rows'), (co_occurrence != 0).any(axis='columns')]"
   ]
  },
  {
   "cell_type": "code",
   "execution_count": 19,
   "metadata": {},
   "outputs": [
    {
     "data": {
      "image/png": "[encoded data removed]",
      "text/plain": [
       "<Figure size 720x720 with 2 Axes>"
      ]
     },
     "metadata": {
      "needs_background": "light"
     },
     "output_type": "display_data"
    }
   ],
   "source": [
    "_, ax = plt.subplots(figsize=(10,10))\n",
    "sns.heatmap(no_zeros > 0, cmap='Blues', ax=ax)\n",
    "ax.set_title(\"Co-occurrences of organisations in Reuters news headlines\");"
   ]
  },
  {
   "cell_type": "markdown",
   "metadata": {},
   "source": [
    "We can't really indentify individual co-occurences in that chart, but we do learn that they are sparse. As expected, most organisations co-occur with only a handful of others."
   ]
  },
  {
   "cell_type": "markdown",
   "metadata": {},
   "source": [
    "## To spaCy and beyond\n",
    "\n",
    "Hopefully, this notebook has inspired your own use cases for named entity recognition. NER is but one mature NLP capability, for which spaCy provides industrial strength tooling. Even without training our own model, we were able to prototype a couple of capabilities that might be the basis of tools for use by journalists, businesses, or national statistics organisations seeking to monitor company activity.\n",
    "\n",
    "If we had been working with a more esoteric dataset, or wanted better entity recognition on our particular dataset, or desired different categories of entity, we could fine tune a model for the purpose. Doing so would require that we have data labeled with examples of the entities we want to extract. We could label that manually, employ a commercial labeling service, or use a purpose built tool like [prodi.gy](https://prodi.gy/) (from the makers of spaCy)."
   ]
  },
  {
   "cell_type": "markdown",
   "metadata": {},
   "source": [
    "***If this documentation includes code, including but not limited to, code examples, Cloudera makes this available to you under the terms of the Apache License, Version 2.0, including any required notices.  A copy of the Apache License Version 2.0 can be found [here](https://opensource.org/licenses/Apache-2.0).***"
   ]
  },
  {
   "cell_type": "code",
   "execution_count": null,
   "metadata": {},
   "outputs": [],
   "source": []
  }
 ],
 "metadata": {
  "kernelspec": {
   "display_name": "Python 3",
   "language": "python",
   "name": "python3"
  },
  "language_info": {
   "codemirror_mode": {
    "name": "ipython",
    "version": 3
   },
   "file_extension": ".py",
   "mimetype": "text/x-python",
   "name": "python",
   "nbconvert_exporter": "python",
   "pygments_lexer": "ipython3",
   "version": "3.9.7"
  }
 },
 "nbformat": 4,
 "nbformat_minor": 4
}
